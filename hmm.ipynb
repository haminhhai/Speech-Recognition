{
 "cells": [
  {
   "cell_type": "code",
   "execution_count": 1,
   "metadata": {},
   "outputs": [],
   "source": [
    "import librosa\n",
    "import numpy as np\n",
    "import os\n",
    "import math\n",
    "from sklearn.cluster import KMeans\n",
    "import hmmlearn.hmm\n",
    "from hmmlearn.hmm import GaussianHMM\n",
    "from hmmlearn.hmm import GMMHMM\n",
    "from sklearn.model_selection import train_test_split"
   ]
  },
  {
   "cell_type": "code",
   "execution_count": 2,
   "metadata": {},
   "outputs": [],
   "source": [
    "def get_mfcc(file_path):\n",
    "    y, sr = librosa.load(file_path) # read .wav file\n",
    "    hop_length = math.floor(sr*0.010) # 10ms hop\n",
    "    win_length = math.floor(sr*0.025) # 25ms frame\n",
    "    # mfcc is 12 x T matrix\n",
    "    mfcc = librosa.feature.mfcc(\n",
    "        y, sr, n_mfcc=12, n_fft=1024,\n",
    "        hop_length=hop_length, win_length=win_length)\n",
    "    # substract mean from mfcc --> normalize mfcc\n",
    "    mfcc = mfcc - np.mean(mfcc, axis=1).reshape((-1,1))\n",
    "    # delta feature 1st order and 2nd order\n",
    "    delta1 = librosa.feature.delta(mfcc, order=1)\n",
    "    delta2 = librosa.feature.delta(mfcc, order=2)\n",
    "    # X is 36 x T\n",
    "    X = np.concatenate([mfcc, delta1, delta2], axis=0) # O^r\n",
    "    # return T x 36 (transpose of X)\n",
    "    return X.T # hmmlearn use T x N matrix"
   ]
  },
  {
   "cell_type": "code",
   "execution_count": 3,
   "metadata": {},
   "outputs": [],
   "source": [
    "def get_class_data(data_dir):\n",
    "    files = os.listdir(data_dir)\n",
    "    mfcc = [get_mfcc(os.path.join(data_dir,f)) for f in files if f.endswith(\".wav\")]\n",
    "    return mfcc"
   ]
  },
  {
   "cell_type": "code",
   "execution_count": 4,
   "metadata": {},
   "outputs": [],
   "source": [
    "def clustering(X, n_clusters=10):\n",
    "    kmeans = KMeans(n_clusters=n_clusters, n_init=50, random_state=0, verbose=0)\n",
    "    kmeans.fit(X)\n",
    "    print(\"centers\", kmeans.cluster_centers_.shape)\n",
    "    return kmeans"
   ]
  },
  {
   "cell_type": "code",
   "execution_count": 5,
   "metadata": {},
   "outputs": [
    {
     "output_type": "stream",
     "name": "stdout",
     "text": "Load tôi dataset\nLoad nhà dataset\nLoad học dataset\nLoad nhân viên dataset\nLoad hà nội dataset\n"
    }
   ],
   "source": [
    "import random\n",
    "\n",
    "class_names = ['tôi', 'nhà', 'học', 'nhân viên', 'hà nội']\n",
    "dataset = {}\n",
    "dataset_train = {}\n",
    "dataset_test = {}\n",
    "\n",
    "for cname in class_names:\n",
    "    print(f\"Load {cname} dataset\")\n",
    "    dataset[cname] = get_class_data(os.path.join(\"data\", cname))\n",
    "#     uncomment to shuffle dataset\n",
    "    random.shuffle(dataset[cname])\n",
    "    train_size = int(0.8*len(dataset[cname]))\n",
    "    dataset_train[cname] = dataset[cname][:train_size]\n",
    "    dataset_test[cname] = dataset[cname][train_size:]\n",
    "\n",
    "# Get all vectors in the datasets\n",
    "all_vectors = np.concatenate([np.concatenate(v, axis=0) for k, v in dataset.items()], axis=0)\n",
    "# print(\"vectors\", all_vectors.shape)\n",
    "# Run K-Means algorithm to get clusters\n",
    "# Comment KMEANS for GMMHMM\n",
    "# kmeans = clustering(all_vectors)\n",
    "# print(\"centers\", kmeans.cluster_centers_.shape)"
   ]
  },
  {
   "cell_type": "code",
   "execution_count": 6,
   "metadata": {},
   "outputs": [],
   "source": [
    "toi_param = [\n",
    "    9,\n",
    "    np.array([1.0,0.0,0.0,0.0,0.0,0.0,0.0,0.0,0.0]),\n",
    "    np.array([\n",
    "        [0.7,0.3,0.0,0.0,0.0,0.0,0.0,0.0,0.0],\n",
    "        [0.0,0.7,0.3,0.0,0.0,0.0,0.0,0.0,0.0],\n",
    "        [0.0,0.0,0.7,0.3,0.0,0.0,0.0,0.0,0.0],\n",
    "        [0.0,0.0,0.0,0.7,0.3,0.0,0.0,0.0,0.0],\n",
    "        [0.0,0.0,0.0,0.0,0.7,0.3,0.0,0.0,0.0],\n",
    "        [0.0,0.0,0.0,0.0,0.0,0.7,0.3,0.0,0.0],\n",
    "        [0.0,0.0,0.0,0.0,0.0,0.0,0.7,0.3,0.0],\n",
    "        [0.0,0.0,0.0,0.0,0.0,0.0,0.0,0.7,0.3],\n",
    "        [0.0,0.0,0.0,0.0,0.0,0.0,0.0,0.0,1.0],\n",
    "    ])\n",
    "]"
   ]
  },
  {
   "cell_type": "code",
   "execution_count": 7,
   "metadata": {},
   "outputs": [],
   "source": [
    "hoc_param = toi_param"
   ]
  },
  {
   "cell_type": "code",
   "execution_count": 8,
   "metadata": {},
   "outputs": [],
   "source": [
    "nha_param = [\n",
    "    6,\n",
    "    np.array([1.0,0.0,0.0,0.0,0.0,0.0]),\n",
    "    np.array([\n",
    "        [0.7,0.3,0.0,0.0,0.0,0.0],\n",
    "        [0.0,0.7,0.3,0.0,0.0,0.0],\n",
    "        [0.0,0.0,0.7,0.3,0.0,0.0],\n",
    "        [0.0,0.0,0.0,0.7,0.3,0.0],\n",
    "        [0.0,0.0,0.0,0.0,0.7,0.3],\n",
    "        [0.0,0.0,0.0,0.0,0.0,1.0],\n",
    "    ])\n",
    "]"
   ]
  },
  {
   "cell_type": "code",
   "execution_count": 9,
   "metadata": {},
   "outputs": [],
   "source": [
    "hanoi_param = [\n",
    "    10,\n",
    "    np.array([1.0,0.0,0.0,0.0,0.0,0.0,0.0,0.0,0.0,0.0]),\n",
    "    np.array([\n",
    "        [0.7,0.3,0.0,0.0,0.0,0.0,0.0,0.0,0.0,0.0],\n",
    "        [0.0,0.7,0.3,0.0,0.0,0.0,0.0,0.0,0.0,0.0],\n",
    "        [0.0,0.0,0.7,0.3,0.0,0.0,0.0,0.0,0.0,0.0],\n",
    "        [0.0,0.0,0.0,0.7,0.3,0.0,0.0,0.0,0.0,0.0],\n",
    "        [0.0,0.0,0.0,0.0,0.7,0.3,0.0,0.0,0.0,0.0],\n",
    "        [0.0,0.0,0.0,0.0,0.0,0.7,0.3,0.0,0.0,0.0],\n",
    "        [0.0,0.0,0.0,0.0,0.0,0.0,0.7,0.3,0.0,0.0],\n",
    "        [0.0,0.0,0.0,0.0,0.0,0.0,0.0,0.7,0.3,0.0],\n",
    "        [0.0,0.0,0.0,0.0,0.0,0.0,0.0,0.0,0.7,0.3],\n",
    "        [0.0,0.0,0.0,0.0,0.0,0.0,0.0,0.0,0.0,1.0],\n",
    "    ])\n",
    "]"
   ]
  },
  {
   "cell_type": "code",
   "execution_count": 10,
   "metadata": {},
   "outputs": [],
   "source": [
    "nhanvien_param = [\n",
    "    12,\n",
    "    np.array([1.0,0.0,0.0,0.0,0.0,0.0,0.0,0.0,0.0,0.0,0.0,0.0]),\n",
    "    np.array([\n",
    "        [0.7,0.3,0.0,0.0,0.0,0.0,0.0,0.0,0.0,0.0,0.0,0.0],\n",
    "        [0.0,0.7,0.3,0.0,0.0,0.0,0.0,0.0,0.0,0.0,0.0,0.0],\n",
    "        [0.0,0.0,0.7,0.3,0.0,0.0,0.0,0.0,0.0,0.0,0.0,0.0],\n",
    "        [0.0,0.0,0.0,0.7,0.3,0.0,0.0,0.0,0.0,0.0,0.0,0.0],\n",
    "        [0.0,0.0,0.0,0.0,0.7,0.3,0.0,0.0,0.0,0.0,0.0,0.0],\n",
    "        [0.0,0.0,0.0,0.0,0.0,0.7,0.3,0.0,0.0,0.0,0.0,0.0],\n",
    "        [0.0,0.0,0.0,0.0,0.0,0.0,0.7,0.3,0.0,0.0,0.0,0.0],\n",
    "        [0.0,0.0,0.0,0.0,0.0,0.0,0.0,0.7,0.3,0.0,0.0,0.0],\n",
    "        [0.0,0.0,0.0,0.0,0.0,0.0,0.0,0.0,0.7,0.3,0.0,0.0],\n",
    "        [0.0,0.0,0.0,0.0,0.0,0.0,0.0,0.0,0.0,0.7,0.3,0.0],\n",
    "        [0.0,0.0,0.0,0.0,0.0,0.0,0.0,0.0,0.0,0.0,0.7,0.3],\n",
    "        [0.0,0.0,0.0,0.0,0.0,0.0,0.0,0.0,0.0,0.0,0.0,1.0],\n",
    "    ])\n",
    "]"
   ]
  },
  {
   "cell_type": "code",
   "execution_count": 11,
   "metadata": {},
   "outputs": [],
   "source": [
    "param_dict = {\n",
    "    \"tôi\": toi_param,\n",
    "    \"nhà\": nha_param,\n",
    "    \"học\": hoc_param,\n",
    "    \"nhân viên\": nhanvien_param,\n",
    "    \"hà nội\": hanoi_param\n",
    "}"
   ]
  },
  {
   "cell_type": "code",
   "execution_count": 12,
   "metadata": {},
   "outputs": [
    {
     "output_type": "execute_result",
     "data": {
      "text/plain": "9"
     },
     "metadata": {},
     "execution_count": 12
    }
   ],
   "source": [
    "param_dict[\"tôi\"][0]"
   ]
  },
  {
   "cell_type": "code",
   "execution_count": 13,
   "metadata": {
    "scrolled": true,
    "tags": [
     "outputPrepend",
     "outputPrepend",
     "outputPrepend",
     "outputPrepend",
     "outputPrepend",
     "outputPrepend",
     "outputPrepend",
     "outputPrepend",
     "outputPrepend",
     "outputPrepend",
     "outputPrepend",
     "outputPrepend",
     "outputPrepend",
     "outputPrepend",
     "outputPrepend",
     "outputPrepend",
     "outputPrepend",
     "outputPrepend",
     "outputPrepend",
     "outputPrepend",
     "outputPrepend",
     "outputPrepend",
     "outputPrepend",
     "outputPrepend",
     "outputPrepend",
     "outputPrepend",
     "outputPrepend",
     "outputPrepend",
     "outputPrepend",
     "outputPrepend",
     "outputPrepend",
     "outputPrepend",
     "outputPrepend",
     "outputPrepend",
     "outputPrepend",
     "outputPrepend",
     "outputPrepend",
     "outputPrepend",
     "outputPrepend",
     "outputPrepend",
     "outputPrepend",
     "outputPrepend",
     "outputPrepend",
     "outputPrepend",
     "outputPrepend",
     "outputPrepend",
     "outputPrepend",
     "outputPrepend",
     "outputPrepend",
     "outputPrepend",
     "outputPrepend",
     "outputPrepend",
     "outputPrepend",
     "outputPrepend",
     "outputPrepend",
     "outputPrepend",
     "outputPrepend",
     "outputPrepend",
     "outputPrepend",
     "outputPrepend",
     "outputPrepend",
     "outputPrepend",
     "outputPrepend",
     "outputPrepend",
     "outputPrepend",
     "outputPrepend",
     "outputPrepend",
     "outputPrepend",
     "outputPrepend",
     "outputPrepend",
     "outputPrepend",
     "outputPrepend",
     "outputPrepend",
     "outputPrepend",
     "outputPrepend",
     "outputPrepend",
     "outputPrepend",
     "outputPrepend",
     "outputPrepend",
     "outputPrepend",
     "outputPrepend",
     "outputPrepend",
     "outputPrepend",
     "outputPrepend",
     "outputPrepend",
     "outputPrepend",
     "outputPrepend",
     "outputPrepend",
     "outputPrepend",
     "outputPrepend",
     "outputPrepend",
     "outputPrepend",
     "outputPrepend",
     "outputPrepend",
     "outputPrepend",
     "outputPrepend",
     "outputPrepend",
     "outputPrepend",
     "outputPrepend",
     "outputPrepend",
     "outputPrepend",
     "outputPrepend",
     "outputPrepend",
     "outputPrepend",
     "outputPrepend",
     "outputPrepend",
     "outputPrepend",
     "outputPrepend",
     "outputPrepend",
     "outputPrepend",
     "outputPrepend",
     "outputPrepend",
     "outputPrepend",
     "outputPrepend",
     "outputPrepend",
     "outputPrepend",
     "outputPrepend",
     "outputPrepend",
     "outputPrepend",
     "outputPrepend",
     "outputPrepend",
     "outputPrepend",
     "outputPrepend",
     "outputPrepend",
     "outputPrepend",
     "outputPrepend",
     "outputPrepend",
     "outputPrepend",
     "outputPrepend",
     "outputPrepend",
     "outputPrepend",
     "outputPrepend",
     "outputPrepend",
     "outputPrepend",
     "outputPrepend",
     "outputPrepend",
     "outputPrepend",
     "outputPrepend",
     "outputPrepend",
     "outputPrepend",
     "outputPrepend",
     "outputPrepend",
     "outputPrepend",
     "outputPrepend",
     "outputPrepend"
    ]
   },
   "outputs": [
    {
     "output_type": "stream",
     "name": "stderr",
     "text": "  47     -179676.7495          +0.0819\n        48     -179676.6873          +0.0622\n        49     -179676.6371          +0.0501\n        50     -179676.5940          +0.0431\n        51     -179676.5553          +0.0386\n        52     -179676.5201          +0.0352\n        53     -179676.4879          +0.0323\n        54     -179676.4582          +0.0297\n        55     -179676.4305          +0.0277\n        56     -179676.4036          +0.0269\n        57     -179676.3758          +0.0278\n        58     -179676.3445          +0.0313\n        59     -179676.3059          +0.0386\n        60     -179676.2566          +0.0493\n        61     -179676.1976          +0.0590\n        62     -179676.1397          +0.0579\n        63     -179676.0974          +0.0423\n        64     -179676.0741          +0.0233\n        65     -179676.0632          +0.0109\n        66     -179676.0584          +0.0048\n         1     -189145.8159             +nan\n         2     -179176.2904       +9969.5255\n         3     -176555.6732       +2620.6171\n         4     -175760.1773        +795.4959\n         5     -175351.9788        +408.1985\n         6     -175155.3393        +196.6395\n         7     -175016.9132        +138.4261\n         8     -174925.9259         +90.9873\n         9     -174858.5149         +67.4110\n        10     -174805.3188         +53.1961\n        11     -174741.7936         +63.5253\n        12     -174672.6615         +69.1321\n        13     -174619.2406         +53.4208\n        14     -174594.8107         +24.4300\n        15     -174566.0974         +28.7133\n        16     -174514.3755         +51.7219\n        17     -174484.7366         +29.6389\n        18     -174457.8656         +26.8710\n        19     -174441.3672         +16.4984\n        20     -174428.3751         +12.9920\n        21     -174421.2065          +7.1687\n        22     -174408.7089         +12.4976\n        23     -174387.6275         +21.0813\n        24     -174367.1990         +20.4285\n        25     -174357.2626          +9.9364\n        26     -174355.8329          +1.4297\n        27     -174355.0826          +0.7503\n        28     -174354.6173          +0.4653\n        29     -174354.2699          +0.3474\n        30     -174353.9425          +0.3274\n        31     -174353.4639          +0.4786\n        32     -174352.7525          +0.7114\n        33     -174352.3181          +0.4344\n        34     -174351.9772          +0.3409\n        35     -174351.5395          +0.4377\n        36     -174350.8380          +0.7015\n        37     -174348.9848          +1.8532\n        38     -174347.9225          +1.0623\n        39     -174347.2495          +0.6730\n        40     -174346.4342          +0.8153\n        41     -174345.6021          +0.8321\n        42     -174344.5987          +1.0034\n        43     -174343.9598          +0.6389\n        44     -174343.6253          +0.3345\n        45     -174343.3387          +0.2867\n        46     -174343.1840          +0.1547\n        47     -174343.0897          +0.0943\n        48     -174343.0087          +0.0810\n        49     -174342.9285          +0.0802\n        50     -174342.8410          +0.0875\n        51     -174342.7380          +0.1030\n        52     -174342.6104          +0.1276\n        53     -174342.4485          +0.1618\n        54     -174342.2413          +0.2072\n        55     -174341.9641          +0.2772\n        56     -174341.5205          +0.4436\n        57     -174340.3232          +1.1974\n        58     -174336.9776          +3.3456\n        59     -174335.0859          +1.8916\n        60     -174333.7602          +1.3257\n        61     -174332.0255          +1.7347\n        62     -174329.5362          +2.4893\n        63     -174326.5202          +3.0159\n        64     -174324.1052          +2.4151\n        65     -174323.7047          +0.4005\n        66     -174323.5940          +0.1106\n        67     -174323.5365          +0.0575\n        68     -174323.4998          +0.0367\n        69     -174323.4742          +0.0257\n        70     -174323.4554          +0.0188\n        71     -174323.4412          +0.0142\n        72     -174323.4303          +0.0109\n        73     -174323.4216          +0.0087\n         1     -348358.9721             +nan\n         2     -329852.4617      +18506.5104\n         3     -324861.3638       +4991.0979\n         4     -323162.3686       +1698.9952\n         5     -322471.2785        +691.0900\n         6     -322094.6116        +376.6669\n         7     -321889.7133        +204.8983\n         8     -321727.9509        +161.7624\n         9     -321568.9495        +159.0015\n        10     -321439.7190        +129.2305\n        11     -321343.4055         +96.3134\n        12     -321274.5646         +68.8409\n        13     -321228.7110         +45.8536\n        14     -321185.8406         +42.8704\n        15     -321134.3292         +51.5114\n        16     -321046.3877         +87.9416\n        17     -321000.0204         +46.3672\n        18     -320967.4469         +32.5735\n        19     -320952.5515         +14.8954\n        20     -320931.8536         +20.6980\n        21     -320901.3776         +30.4760\n        22     -320872.7372         +28.6404\n        23     -320856.1843         +16.5529\n        24     -320847.7667          +8.4176\n        25     -320841.0049          +6.7618\n        26     -320831.5090          +9.4958\n        27     -320821.7079          +9.8011\n        28     -320814.7754          +6.9325\n        29     -320807.4122          +7.3632\n        30     -320800.7071          +6.7051\n        31     -320798.4343          +2.2728\n        32     -320796.3826          +2.0517\n        33     -320788.7889          +7.5937\n        34     -320780.1775          +8.6114\n        35     -320778.3793          +1.7982\n        36     -320775.7503          +2.6290\n        37     -320772.2688          +3.4814\n        38     -320770.6221          +1.6467\n        39     -320768.0760          +2.5461\n        40     -320764.3809          +3.6952\n        41     -320762.8852          +1.4956\n        42     -320762.0254          +0.8599\n        43     -320761.2175          +0.8079\n        44     -320760.0179          +1.1996\n        45     -320756.9682          +3.0497\n        46     -320749.9495          +7.0187\n        47     -320742.1963          +7.7532\n        48     -320736.4244          +5.7720\n        49     -320733.3433          +3.0811\n        50     -320729.9594          +3.3839\n        51     -320725.1974          +4.7620\n        52     -320720.0977          +5.0996\n        53     -320716.5765          +3.5212\n        54     -320713.6900          +2.8865\n        55     -320710.1430          +3.5470\n        56     -320706.3629          +3.7800\n        57     -320702.8492          +3.5137\n        58     -320699.5171          +3.3322\n        59     -320695.7628          +3.7542\n        60     -320691.0577          +4.7052\n        61     -320678.1403         +12.9174\n        62     -320653.6526         +24.4877\n        63     -320637.3885         +16.2641\n        64     -320624.4428         +12.9457\n        65     -320615.2104          +9.2323\n        66     -320600.1213         +15.0892\n        67     -320581.8627         +18.2585\n        68     -320569.2872         +12.5755\n        69     -320560.3600          +8.9272\n        70     -320551.0112          +9.3487\n        71     -320539.8592         +11.1520\n        72     -320526.7937         +13.0655\n        73     -320515.0644         +11.7293\n        74     -320501.2050         +13.8593\n        75     -320487.8238         +13.3812\n        76     -320475.7130         +12.1108\n        77     -320466.5542          +9.1588\n        78     -320460.9080          +5.6462\n        79     -320456.6896          +4.2183\n        80     -320449.1597          +7.5299\n        81     -320441.5563          +7.6033\n        82     -320435.7311          +5.8253\n        83     -320427.8832          +7.8479\n        84     -320421.2735          +6.6097\n        85     -320414.9379          +6.3356\n        86     -320408.8927          +6.0452\n        87     -320401.6883          +7.2044\n        88     -320392.0126          +9.6756\n        89     -320376.0979         +15.9147\n        90     -320364.6788         +11.4191\n        91     -320359.8842          +4.7946\n        92     -320355.3606          +4.5236\n        93     -320349.4699          +5.8907\n        94     -320346.1246          +3.3453\n        95     -320342.1707          +3.9539\n        96     -320335.6660          +6.5046\n        97     -320331.9436          +3.7224\n        98     -320328.4746          +3.4690\n        99     -320322.9823          +5.4923\n       100     -320316.3740          +6.6083\n       101     -320311.5248          +4.8491\n       102     -320306.8367          +4.6881\n       103     -320302.1591          +4.6776\n       104     -320297.2438          +4.9153\n       105     -320292.1828          +5.0610\n       106     -320288.2235          +3.9593\n       107     -320284.5865          +3.6370\n       108     -320281.8239          +2.7626\n       109     -320279.7256          +2.0983\n       110     -320278.0250          +1.7007\n       111     -320276.7997          +1.2252\n       112     -320275.7660          +1.0337\n       113     -320274.2034          +1.5626\n       114     -320271.7293          +2.4742\n       115     -320266.4557          +5.2736\n       116     -320257.6965          +8.7592\n       117     -320252.9389          +4.7576\n       118     -320250.7373          +2.2016\n       119     -320248.4899          +2.2474\n       120     -320244.9916          +3.4983\n       121     -320243.6300          +1.3616\n       122     -320243.1945          +0.4355\n       123     -320242.8462          +0.3483\n       124     -320242.4154          +0.4308\n       125     -320241.8896          +0.5258\n       126     -320241.3786          +0.5110\n       127     -320240.9008          +0.4778\n       128     -320240.3683          +0.5325\n       129     -320239.7780          +0.5903\n       130     -320239.3806          +0.3975\n       131     -320239.1935          +0.1871\n       132     -320239.0867          +0.1067\n       133     -320239.0117          +0.0751\n       134     -320238.9481          +0.0636\n       135     -320238.8825          +0.0655\n       136     -320238.8009          +0.0816\n       137     -320238.6821          +0.1189\n       138     -320238.4947          +0.1874\n       139     -320238.2200          +0.2747\n       140     -320237.8959          +0.3241\n       141     -320237.5372          +0.3587\n       142     -320236.9105          +0.6268\n       143     -320235.6729          +1.2376\n       144     -320234.8894          +0.7835\n       145     -320234.4107          +0.4786\n       146     -320233.9267          +0.4840\n       147     -320233.5868          +0.3399\n       148     -320233.4642          +0.1226\n       149     -320233.4182          +0.0460\n       150     -320233.3947          +0.0235\n       151     -320233.3811          +0.0136\n       152     -320233.3727          +0.0083\n         1     -370937.1531             +nan\n         2     -350821.1093      +20116.0437\n         3     -345256.3179       +5564.7915\n         4     -343550.6747       +1705.6431\n         5     -342847.9993        +702.6754\n         6     -342395.5186        +452.4807\n         7     -342056.4727        +339.0459\n         8     -341791.2841        +265.1886\n         9     -341582.3179        +208.9663\n        10     -341414.0985        +168.2194\n        11     -341270.0776        +144.0209\n        12     -341185.4916         +84.5860\n        13     -341109.9896         +75.5020\n        14     -341048.2550         +61.7345\n        15     -340945.2217        +103.0334\n        16     -340893.9761         +51.2456\n        17     -340853.0341         +40.9419\n        18     -340830.4853         +22.5488\n        19     -340808.2146         +22.2707\n        20     -340774.1182         +34.0964\n        21     -340742.9653         +31.1530\n        22     -340721.4702         +21.4950\n        23     -340694.3273         +27.1430\n        24     -340663.0322         +31.2950\n        25     -340607.8911         +55.1412\n        26     -340584.9430         +22.9481\n        27     -340570.2584         +14.6845\n        28     -340500.9804         +69.2781\n        29     -340456.4645         +44.5159\n        30     -340431.2565         +25.2080\n        31     -340422.5737          +8.6828\n        32     -340405.8851         +16.6886\n        33     -340389.3688         +16.5163\n        34     -340380.8269          +8.5419\n        35     -340360.7916         +20.0353\n        36     -340349.9119         +10.8798\n        37     -340335.7354         +14.1765\n        38     -340318.5978         +17.1376\n        39     -340312.6456          +5.9523\n        40     -340297.7864         +14.8591\n        41     -340281.9053         +15.8811\n        42     -340278.8089          +3.0965\n        43     -340273.9360          +4.8728\n        44     -340261.0213         +12.9147\n        45     -340251.5845          +9.4368\n        46     -340243.4703          +8.1142\n        47     -340237.3250          +6.1453\n        48     -340230.8653          +6.4597\n        49     -340220.4824         +10.3829\n        50     -340204.6901         +15.7923\n        51     -340201.3273          +3.3628\n        52     -340196.0101          +5.3172\n        53     -340190.6382          +5.3719\n        54     -340186.9204          +3.7178\n        55     -340178.5553          +8.3651\n        56     -340173.2184          +5.3369\n        57     -340170.8907          +2.3277\n        58     -340168.3896          +2.5011\n        59     -340166.1507          +2.2389\n        60     -340164.2621          +1.8887\n        61     -340162.4899          +1.7721\n        62     -340160.4692          +2.0207\n        63     -340158.1972          +2.2720\n        64     -340154.6460          +3.5512\n        65     -340152.4295          +2.2165\n        66     -340151.8712          +0.5583\n        67     -340151.5228          +0.3484\n        68     -340151.2332          +0.2895\n        69     -340150.9754          +0.2578\n        70     -340150.7481          +0.2274\n        71     -340150.4554          +0.2927\n        72     -340138.8289         +11.6265\n        73     -340130.1753          +8.6536\n        74     -340129.9224          +0.2529\n        75     -340129.7630          +0.1594\n        76     -340129.6065          +0.1565\n        77     -340129.4281          +0.1783\n        78     -340129.2293          +0.1988\n        79     -340129.0276          +0.2017\n        80     -340128.8401          +0.1875\n        81     -340128.6764          +0.1637\n        82     -340128.5397          +0.1367\n        83     -340128.4265          +0.1132\n        84     -340128.3274          +0.0991\n        85     -340128.2281          +0.0993\n        86     -340128.1071          +0.1210\n        87     -340127.9393          +0.1677\n        88     -340127.7303          +0.2090\n        89     -340127.5229          +0.2074\n        90     -340127.3047          +0.2183\n        91     -340127.0202          +0.2845\n        92     -340126.6196          +0.4005\n        93     -340126.0633          +0.5564\n        94     -340125.3247          +0.7386\n        95     -340124.2072          +1.1175\n        96     -340121.4779          +2.7293\n        97     -340116.7957          +4.6821\n        98     -340114.8992          +1.8966\n        99     -340114.3473          +0.5519\n       100     -340113.6601          +0.6872\n       101     -340112.8971          +0.7630\n       102     -340111.9665          +0.9307\n       103     -340110.3846          +1.5819\n       104     -340106.0055          +4.3791\n       105     -340095.3313         +10.6742\n       106     -340093.3317          +1.9995\n       107     -340092.9114          +0.4203\n       108     -340092.6401          +0.2713\n       109     -340092.4363          +0.2038\n       110     -340092.2754          +0.1609\n       111     -340092.1207          +0.1547\n       112     -340091.9513          +0.1694\n       113     -340091.7670          +0.1844\n       114     -340091.5858          +0.1811\n       115     -340091.4338          +0.1521\n       116     -340091.3241          +0.1097\n       117     -340091.2513          +0.0728\n       118     -340091.2024          +0.0489\n       119     -340091.1667          +0.0357\n       120     -340091.1379          +0.0288\n       121     -340091.1135          +0.0244\n       122     -340091.0933          +0.0202\n       123     -340091.0780          +0.0152\n       124     -340091.0679          +0.0102\n       125     -340091.0619          +0.0060\nDegenerate mixture covariance\nDegenerate mixture covariance\nDegenerate mixture covariance\nDegenerate mixture covariance\nDegenerate mixture covariance\nDegenerate mixture covariance\nDegenerate mixture covariance\nDegenerate mixture covariance\nDegenerate mixture covariance\nDegenerate mixture covariance\nDegenerate mixture covariance\nDegenerate mixture covariance\nDegenerate mixture covariance\nDegenerate mixture covariance\nDegenerate mixture covariance\nDegenerate mixture covariance\nDegenerate mixture covariance\nDegenerate mixture covariance\nDegenerate mixture covariance\nTraining done\nTesting\nDegenerate mixture covariance\nDegenerate mixture covariance\nDegenerate mixture covariance\nDegenerate mixture covariance\nDegenerate mixture covariance\nDegenerate mixture covariance\nDegenerate mixture covariance\nDegenerate mixture covariance\nDegenerate mixture covariance\nDegenerate mixture covariance\nDegenerate mixture covariance\nDegenerate mixture covariance\nDegenerate mixture covariance\nDegenerate mixture covariance\nDegenerate mixture covariance\nDegenerate mixture covariance\nDegenerate mixture covariance\nDegenerate mixture covariance\nDegenerate mixture covariance\ntôi\nTRUE PREDICT: 20/21\nACCURACY: 0.9523809523809523\nDegenerate mixture covariance\nDegenerate mixture covariance\nDegenerate mixture covariance\nDegenerate mixture covariance\nDegenerate mixture covariance\nDegenerate mixture covariance\nDegenerate mixture covariance\nDegenerate mixture covariance\nDegenerate mixture covariance\nDegenerate mixture covariance\nDegenerate mixture covariance\nDegenerate mixture covariance\nDegenerate mixture covariance\nDegenerate mixture covariance\nDegenerate mixture covariance\nDegenerate mixture covariance\nDegenerate mixture covariance\nDegenerate mixture covariance\nDegenerate mixture covariance\nnhà\nTRUE PREDICT: 20/20\nACCURACY: 1.0\nDegenerate mixture covariance\nDegenerate mixture covariance\nDegenerate mixture covariance\nDegenerate mixture covariance\nDegenerate mixture covariance\nDegenerate mixture covariance\nDegenerate mixture covariance\nDegenerate mixture covariance\nDegenerate mixture covariance\nDegenerate mixture covariance\nDegenerate mixture covariance\nDegenerate mixture covariance\nDegenerate mixture covariance\nDegenerate mixture covariance\nDegenerate mixture covariance\nDegenerate mixture covariance\nDegenerate mixture covariance\nDegenerate mixture covariance\nDegenerate mixture covariance\nDegenerate mixture covariance\nDegenerate mixture covariance\nhọc\nTRUE PREDICT: 20/21\nACCURACY: 0.9523809523809523\nDegenerate mixture covariance\nDegenerate mixture covariance\nDegenerate mixture covariance\nDegenerate mixture covariance\nDegenerate mixture covariance\nDegenerate mixture covariance\nDegenerate mixture covariance\nDegenerate mixture covariance\nDegenerate mixture covariance\nDegenerate mixture covariance\nDegenerate mixture covariance\nDegenerate mixture covariance\nDegenerate mixture covariance\nDegenerate mixture covariance\nDegenerate mixture covariance\nDegenerate mixture covariance\nDegenerate mixture covariance\nDegenerate mixture covariance\nDegenerate mixture covariance\nDegenerate mixture covariance\nDegenerate mixture covariance\nnhân viên\nTRUE PREDICT: 19/21\nACCURACY: 0.9047619047619048\nDegenerate mixture covariance\nDegenerate mixture covariance\nDegenerate mixture covariance\nDegenerate mixture covariance\nhà nội\nTRUE PREDICT: 20/20\nACCURACY: 1.0\n"
    }
   ],
   "source": [
    "models = {}\n",
    "for cname in class_names:\n",
    "    class_vectors = dataset[cname]\n",
    "#     use Multinominal HMM\n",
    "#     dataset[cname] = list([kmeans.predict(v).reshape(-1,1) for v in dataset[cname]])\n",
    "#     hmm = hmmlearn.hmm.MultinomialHMM(\n",
    "#         n_components=20, random_state=0, n_iter=1000, verbose=True\n",
    "#     )\n",
    "\n",
    "\n",
    "    hmm = GMMHMM(\n",
    "    n_components=param_dict[cname][0], n_mix = 4, random_state=42, n_iter=1000, verbose=True,\n",
    "        params='mctw',\n",
    "        init_params='mct'\n",
    "    )\n",
    "#     hmm.startprob_ = np.array([1.0,0.0,0.0,0.0,0.0])\n",
    "#     hmm.startprob_ = np.array([1.0,0.0,0.0,0.0,0.0, 0.0,0.0])\n",
    "    hmm.startprob_ = param_dict[cname][1]\n",
    "    hmm.transmat_ = param_dict[cname][2]\n",
    "#     hmm.transmat_ = np.array([\n",
    "#         [0.7,0.3,0.0,0.0,0.0],\n",
    "#         [0.0,0.7,0.3,0.0,0.0],\n",
    "#         [0.0,0.0,0.7,0.3,0.0],\n",
    "#         [0.0,0.0,0.0,0.7,0.3],\n",
    "#         [0.0,0.0,0.0,0.0,1.0],\n",
    "#     ])\n",
    "#     hmm.transmat_ = np.array([\n",
    "#             [0.7,0.3,0.0,0.0,0.0,0.0,0.0],\n",
    "#             [0.0,0.7,0.3,0.0,0.0,0.0,0.0],\n",
    "#             [0.0,0.0,0.7,0.3,0.0,0.0,0.0],\n",
    "#             [0.0,0.0,0.0,0.7,0.3,0.0,0.0],\n",
    "#             [0.0,0.0,0.0,0.0,0.7,0.3,0.0],\n",
    "#             [0.0,0.0,0.0,0.0,0.0,0.7,0.3],\n",
    "#             [0.0,0.0,0.0,0.0,0.0,0.0,1.0],\n",
    "#         ])\n",
    "\n",
    "#     uncomment below line to train with full dataset\n",
    "#     X = np.concatenate(dataset[cname])\n",
    "#     lengths = list([len(x) for x in dataset[cname]])\n",
    "#     hmm.fit(X, lengths=lengths)\n",
    "\n",
    "    X = np.concatenate(dataset_train[cname])\n",
    "    lengths = list([len(x) for x in dataset_train[cname]])\n",
    "#     FOR GMMHMM: NO NEED lengths parameter\n",
    "    hmm.fit(X)\n",
    "    models[cname] = hmm\n",
    "print(\"Training done\")\n",
    "\n",
    "print(\"Testing\")\n",
    "\n",
    "for true_cname in class_names:\n",
    "    true_predict = 0\n",
    "#     for O in dataset[true_cname]:\n",
    "    for O in dataset_test[true_cname]:\n",
    "        score = {cname : model.score(O, [len(O)]) for cname, model in models.items()}\n",
    "        predict = max(score, key=score.get)\n",
    "        if predict == true_cname:\n",
    "            true_predict += 1\n",
    "#         print(true_cname, score, predict)\n",
    "    print(true_cname)\n",
    "#     change dataset_test to dataset to test in full dataset\n",
    "    print(f'TRUE PREDICT: {true_predict}/{len(dataset_test[true_cname])}')\n",
    "    print('ACCURACY:', true_predict/len(dataset_test[true_cname]))"
   ]
  },
  {
   "cell_type": "code",
   "execution_count": 14,
   "metadata": {},
   "outputs": [
    {
     "output_type": "stream",
     "name": "stdout",
     "text": "Load tôi dataset\nLoad nhà dataset\nLoad học dataset\nLoad nhân viên dataset\nLoad hà nội dataset\n"
    }
   ],
   "source": [
    "# Test on Record files\n",
    "\n",
    "class_names = ['tôi', 'nhà', 'học', 'nhân viên', 'hà nội']\n",
    "dataset_record = {}\n",
    "\n",
    "for cname in class_names:\n",
    "    print(f\"Load {cname} dataset\")\n",
    "    dataset_record[cname] = get_class_data(os.path.join(\"data/RECORD\", cname))\n",
    "\n",
    "# Get all vectors in the datasets\n",
    "all_vectors_record = np.concatenate([np.concatenate(v, axis=0) for k, v in dataset_record.items()], axis=0)"
   ]
  },
  {
   "cell_type": "code",
   "execution_count": 15,
   "metadata": {},
   "outputs": [
    {
     "output_type": "execute_result",
     "data": {
      "text/plain": "40"
     },
     "metadata": {},
     "execution_count": 15
    }
   ],
   "source": [
    "len(dataset_record['tôi'])"
   ]
  },
  {
   "cell_type": "code",
   "execution_count": 16,
   "metadata": {
    "scrolled": true
   },
   "outputs": [
    {
     "output_type": "stream",
     "name": "stderr",
     "text": "Degenerate mixture covariance\nDegenerate mixture covariance\nDegenerate mixture covariance\nDegenerate mixture covariance\nDegenerate mixture covariance\nDegenerate mixture covariance\nDegenerate mixture covariance\nDegenerate mixture covariance\nDegenerate mixture covariance\nDegenerate mixture covariance\nDegenerate mixture covariance\nDegenerate mixture covariance\nDegenerate mixture covariance\nDegenerate mixture covariance\nDegenerate mixture covariance\nDegenerate mixture covariance\nDegenerate mixture covariance\nDegenerate mixture covariance\nDegenerate mixture covariance\nDegenerate mixture covariance\nDegenerate mixture covariance\nDegenerate mixture covariance\nDegenerate mixture covariance\nDegenerate mixture covariance\nDegenerate mixture covariance\nDegenerate mixture covariance\nDegenerate mixture covariance\nDegenerate mixture covariance\nDegenerate mixture covariance\nDegenerate mixture covariance\nDegenerate mixture covariance\nDegenerate mixture covariance\nDegenerate mixture covariance\nDegenerate mixture covariance\nDegenerate mixture covariance\nDegenerate mixture covariance\nDegenerate mixture covariance\nDegenerate mixture covariance\nDegenerate mixture covariance\nDegenerate mixture covariance\nDegenerate mixture covariance\nDegenerate mixture covariance\nDegenerate mixture covariance\nDegenerate mixture covariance\nDegenerate mixture covariance\nDegenerate mixture covariance\nDegenerate mixture covariance\nDegenerate mixture covariance\nDegenerate mixture covariance\nDegenerate mixture covariance\nDegenerate mixture covariance\nDegenerate mixture covariance\nDegenerate mixture covariance\nDegenerate mixture covariance\ntôi\nTRUE PREDICT: 35/40\nACCURACY: 0.875\nDegenerate mixture covariance\nDegenerate mixture covariance\nDegenerate mixture covariance\nDegenerate mixture covariance\nDegenerate mixture covariance\nDegenerate mixture covariance\nDegenerate mixture covariance\nDegenerate mixture covariance\nDegenerate mixture covariance\nDegenerate mixture covariance\nDegenerate mixture covariance\nDegenerate mixture covariance\nDegenerate mixture covariance\nDegenerate mixture covariance\nDegenerate mixture covariance\nDegenerate mixture covariance\nDegenerate mixture covariance\nDegenerate mixture covariance\nDegenerate mixture covariance\nDegenerate mixture covariance\nDegenerate mixture covariance\nDegenerate mixture covariance\nDegenerate mixture covariance\nDegenerate mixture covariance\nDegenerate mixture covariance\nDegenerate mixture covariance\nDegenerate mixture covariance\nDegenerate mixture covariance\nDegenerate mixture covariance\nDegenerate mixture covariance\nDegenerate mixture covariance\nDegenerate mixture covariance\nDegenerate mixture covariance\nDegenerate mixture covariance\nDegenerate mixture covariance\nDegenerate mixture covariance\nDegenerate mixture covariance\nDegenerate mixture covariance\nDegenerate mixture covariance\nDegenerate mixture covariance\nDegenerate mixture covariance\nDegenerate mixture covariance\nnhà\nTRUE PREDICT: 32/40\nACCURACY: 0.8\nDegenerate mixture covariance\nDegenerate mixture covariance\nDegenerate mixture covariance\nDegenerate mixture covariance\nDegenerate mixture covariance\nDegenerate mixture covariance\nDegenerate mixture covariance\nDegenerate mixture covariance\nDegenerate mixture covariance\nDegenerate mixture covariance\nDegenerate mixture covariance\nDegenerate mixture covariance\nDegenerate mixture covariance\nDegenerate mixture covariance\nDegenerate mixture covariance\nDegenerate mixture covariance\nDegenerate mixture covariance\nDegenerate mixture covariance\nDegenerate mixture covariance\nDegenerate mixture covariance\nDegenerate mixture covariance\nDegenerate mixture covariance\nDegenerate mixture covariance\nDegenerate mixture covariance\nDegenerate mixture covariance\nDegenerate mixture covariance\nDegenerate mixture covariance\nDegenerate mixture covariance\nDegenerate mixture covariance\nDegenerate mixture covariance\nDegenerate mixture covariance\nDegenerate mixture covariance\nDegenerate mixture covariance\nDegenerate mixture covariance\nDegenerate mixture covariance\nDegenerate mixture covariance\nDegenerate mixture covariance\nhọc\nTRUE PREDICT: 37/40\nACCURACY: 0.925\nDegenerate mixture covariance\nDegenerate mixture covariance\nDegenerate mixture covariance\nDegenerate mixture covariance\nDegenerate mixture covariance\nDegenerate mixture covariance\nDegenerate mixture covariance\nDegenerate mixture covariance\nDegenerate mixture covariance\nDegenerate mixture covariance\nDegenerate mixture covariance\nDegenerate mixture covariance\nDegenerate mixture covariance\nDegenerate mixture covariance\nDegenerate mixture covariance\nDegenerate mixture covariance\nDegenerate mixture covariance\nDegenerate mixture covariance\nDegenerate mixture covariance\nDegenerate mixture covariance\nDegenerate mixture covariance\nDegenerate mixture covariance\nDegenerate mixture covariance\nDegenerate mixture covariance\nDegenerate mixture covariance\nDegenerate mixture covariance\nDegenerate mixture covariance\nDegenerate mixture covariance\nDegenerate mixture covariance\nDegenerate mixture covariance\nDegenerate mixture covariance\nDegenerate mixture covariance\nDegenerate mixture covariance\nDegenerate mixture covariance\nDegenerate mixture covariance\nDegenerate mixture covariance\nDegenerate mixture covariance\nDegenerate mixture covariance\nDegenerate mixture covariance\nDegenerate mixture covariance\nnhân viên\nTRUE PREDICT: 39/40\nACCURACY: 0.975\nDegenerate mixture covariance\nDegenerate mixture covariance\nDegenerate mixture covariance\nDegenerate mixture covariance\nDegenerate mixture covariance\nDegenerate mixture covariance\nDegenerate mixture covariance\nDegenerate mixture covariance\nDegenerate mixture covariance\nDegenerate mixture covariance\nDegenerate mixture covariance\nDegenerate mixture covariance\nDegenerate mixture covariance\nDegenerate mixture covariance\nDegenerate mixture covariance\nDegenerate mixture covariance\nDegenerate mixture covariance\nDegenerate mixture covariance\nDegenerate mixture covariance\nDegenerate mixture covariance\nDegenerate mixture covariance\nDegenerate mixture covariance\nDegenerate mixture covariance\nDegenerate mixture covariance\nDegenerate mixture covariance\nDegenerate mixture covariance\nDegenerate mixture covariance\nhà nội\nTRUE PREDICT: 36/40\nACCURACY: 0.9\n"
    }
   ],
   "source": [
    "for true_cname in class_names:\n",
    "    true_predict = 0\n",
    "#     for O in dataset[true_cname]:\n",
    "    for O in dataset_record[true_cname]:\n",
    "        score = {cname : model.score(O, [len(O)]) for cname, model in models.items()}\n",
    "        predict = max(score, key=score.get)\n",
    "        if predict == true_cname:\n",
    "            true_predict += 1\n",
    "#         print(true_cname, score, predict)\n",
    "    print(true_cname)\n",
    "#     change dataset_test to dataset to test in full dataset\n",
    "    print(f'TRUE PREDICT: {true_predict}/{len(dataset_record[true_cname])}')\n",
    "    print('ACCURACY:', true_predict/len(dataset_record[true_cname]))"
   ]
  },
  {
   "cell_type": "code",
   "execution_count": null,
   "metadata": {},
   "outputs": [],
   "source": []
  }
 ],
 "metadata": {
  "kernelspec": {
   "display_name": "Python 3",
   "language": "python",
   "name": "python3"
  },
  "language_info": {
   "codemirror_mode": {
    "name": "ipython",
    "version": 3
   },
   "file_extension": ".py",
   "mimetype": "text/x-python",
   "name": "python",
   "nbconvert_exporter": "python",
   "pygments_lexer": "ipython3",
   "version": "3.7.7-final"
  }
 },
 "nbformat": 4,
 "nbformat_minor": 4
}